{
 "cells": [
  {
   "cell_type": "code",
   "execution_count": 2,
   "metadata": {},
   "outputs": [
    {
     "name": "stdout",
     "output_type": "stream",
     "text": [
      "1:\n",
      "1\n",
      "2:\n",
      "2\n",
      "3:\n",
      "3\n"
     ]
    }
   ],
   "source": [
    "import os\n",
    "import pandas as pd\n",
    "\n",
    "path = os.getcwd()[:os.getcwd().find(\"Code\")] + \"Data/netflix-prize/\"\n",
    "movie_ids, user_ids, ratings, dates = [], [], [], []\n",
    "movie_ids_agg, user_ids_aggs, ratings_aggs, dates_aggs = [], [], [], []\n",
    "count = 0\n",
    "#for file in [\"combined_data_1.txt\", \"combined_data_2.txt\", \"combined_data_3.txt\", \"combined_data_4.txt\"]:\n",
    "with open(path + \"combined_data_1.txt\", \"r\") as s:\n",
    "    data = s.read()\n",
    "for line in data.split(\"\\n\"):\n",
    "    if line.strip():\n",
    "        if \",\" not in line:\n",
    "            #print(line)\n",
    "            #print(int(line.strip()[:-1]))\n",
    "            #if count == 2:\n",
    "            #    break\n",
    "            count += 1\n",
    "            movie_id = int(line.strip()[:-1])\n",
    "            if count % 10 == 0:\n",
    "                print(count, movie_id)\n",
    "            movie_ids += movie_ids_agg\n",
    "            user_ids += user_ids_aggs\n",
    "            ratings += ratings_aggs\n",
    "            dates += dates_aggs\n",
    "            movie_ids_agg, user_ids_aggs, ratings_aggs, dates_aggs = [], [], [], []\n",
    "        else:\n",
    "            movie_ids_agg.append(movie_id)\n",
    "            rest_data = line.split(\",\")\n",
    "            user_ids_aggs.append(int(rest_data[0]))\n",
    "            ratings_aggs.append(int(rest_data[1]))\n",
    "            dates_aggs.append(rest_data[2])\n",
    "                \n",
    "df = pd.DataFrame({\"movie_id\": movie_ids, \"user_id\": user_ids, \"rating\": ratings, \"date\": dates})"
   ]
  },
  {
   "cell_type": "code",
   "execution_count": 4,
   "metadata": {},
   "outputs": [],
   "source": [
    "df.to_csv(path + \"user_data_1.csv\")"
   ]
  },
  {
   "cell_type": "code",
   "execution_count": null,
   "metadata": {},
   "outputs": [],
   "source": []
  },
  {
   "cell_type": "code",
   "execution_count": null,
   "metadata": {},
   "outputs": [],
   "source": []
  },
  {
   "cell_type": "code",
   "execution_count": 7,
   "metadata": {},
   "outputs": [
    {
     "data": {
      "text/html": [
       "<div>\n",
       "<style scoped>\n",
       "    .dataframe tbody tr th:only-of-type {\n",
       "        vertical-align: middle;\n",
       "    }\n",
       "\n",
       "    .dataframe tbody tr th {\n",
       "        vertical-align: top;\n",
       "    }\n",
       "\n",
       "    .dataframe thead th {\n",
       "        text-align: right;\n",
       "    }\n",
       "</style>\n",
       "<table border=\"1\" class=\"dataframe\">\n",
       "  <thead>\n",
       "    <tr style=\"text-align: right;\">\n",
       "      <th></th>\n",
       "      <th>movie_id</th>\n",
       "      <th>user_id</th>\n",
       "      <th>rating</th>\n",
       "      <th>date</th>\n",
       "    </tr>\n",
       "  </thead>\n",
       "  <tbody>\n",
       "    <tr>\n",
       "      <th>0</th>\n",
       "      <td>0</td>\n",
       "      <td>0</td>\n",
       "      <td>0</td>\n",
       "      <td>0</td>\n",
       "    </tr>\n",
       "    <tr>\n",
       "      <th>0</th>\n",
       "      <td>0</td>\n",
       "      <td>0</td>\n",
       "      <td>0</td>\n",
       "      <td>0</td>\n",
       "    </tr>\n",
       "  </tbody>\n",
       "</table>\n",
       "</div>"
      ],
      "text/plain": [
       "   movie_id  user_id  rating  date\n",
       "0         0        0       0     0\n",
       "0         0        0       0     0"
      ]
     },
     "execution_count": 7,
     "metadata": {},
     "output_type": "execute_result"
    }
   ],
   "source": [
    "import pandas as pd\n",
    "df = pd.DataFrame({\"movie_id\": [0], \"user_id\": [0], \"rating\": [0], \"date\": [0]})\n",
    "df = df.append(pd.DataFrame({\"movie_id\": [0], \"user_id\": [0], \"rating\": [0], \"date\": [0]}))\n",
    "df\n",
    "#df = df.append(pd.DataFrame([[1], [1], [1], [1]], columns = [\"movie_id\", \"user_id\", \"rating\", \"date\"]))"
   ]
  },
  {
   "cell_type": "code",
   "execution_count": null,
   "metadata": {},
   "outputs": [],
   "source": []
  },
  {
   "cell_type": "code",
   "execution_count": null,
   "metadata": {},
   "outputs": [],
   "source": []
  },
  {
   "cell_type": "code",
   "execution_count": null,
   "metadata": {},
   "outputs": [],
   "source": []
  },
  {
   "cell_type": "code",
   "execution_count": null,
   "metadata": {},
   "outputs": [],
   "source": []
  },
  {
   "cell_type": "code",
   "execution_count": null,
   "metadata": {},
   "outputs": [
    {
     "name": "stdout",
     "output_type": "stream",
     "text": [
      "0 1:\n",
      "10000 470361,2,2005-05-16\n",
      "20000 1189445,4,2005-06-25\n",
      "30000 1729518,1,2005-09-18\n",
      "40000 624336,5,2005-06-09\n",
      "50000 211008,3,2004-10-12\n",
      "60000 1897822,4,2004-11-22\n",
      "70000 1470228,4,2003-06-19\n",
      "80000 2180741,4,2004-12-06\n",
      "90000 1112365,3,2004-08-06\n",
      "100000 1732588,4,2004-05-02\n",
      "110000 500741,3,2005-11-07\n",
      "120000 494064,3,2005-02-13\n",
      "130000 645620,3,2004-05-12\n",
      "140000 326054,4,2004-12-13\n",
      "150000 625405,5,2005-07-28\n",
      "160000 1253750,5,2005-02-08\n",
      "170000 633156,4,2004-05-05\n",
      "180000 1606158,4,2005-10-21\n",
      "190000 2511288,3,2005-02-21\n",
      "200000 1842450,5,2004-06-07\n",
      "210000 1254804,4,2004-05-19\n",
      "220000 1360936,4,2005-02-23\n",
      "230000 2517833,3,2004-10-04\n",
      "240000 798972,5,2002-09-11\n",
      "250000 540779,4,2005-10-21\n",
      "260000 1769353,5,2004-02-24\n",
      "270000 1454129,3,2005-05-27\n",
      "280000 756405,3,2003-10-06\n",
      "290000 2330786,5,2005-08-10\n",
      "300000 2503038,2,2005-03-08\n",
      "310000 2302074,3,2004-08-03\n",
      "320000 388468,3,2005-07-05\n",
      "330000 1999417,4,2005-02-01\n",
      "340000 2442516,4,2005-02-08\n",
      "350000 99146,3,2005-02-05\n",
      "360000 1124111,4,2004-07-22\n",
      "370000 2354732,3,2004-08-19\n",
      "380000 757273,4,2004-01-02\n"
     ]
    }
   ],
   "source": [
    "import os\n",
    "import pandas as pd\n",
    "\n",
    "path = os.getcwd()[:os.getcwd().find(\"Code\")] + \"Data/netflix-prize/\"\n",
    "#movie_ids, user_ids, ratings, dates = [], [], [], []\n",
    "df = pd.DataFrame({\"movie_id\": [0], \"user_id\": [0], \"rating\": [0], \"date\": [0]})\n",
    "count = 0\n",
    "for file in [\"combined_data_1.txt\", \"combined_data_2.txt\", \"combined_data_3.txt\", \"combined_data_4.txt\"]:\n",
    "    with open(path + file, \"r\") as s:\n",
    "        data = s.read()\n",
    "    for line in data.split(\"\\n\"):\n",
    "        if line.strip():\n",
    "            if \",\" not in line:\n",
    "                movie_id = int(line[0])\n",
    "            else:\n",
    "                rest_data = line.split(\",\")\n",
    "                df = df.append(pd.DataFrame({\"movie_id\": [movie_id], \"user_id\": [int(rest_data[0])], \n",
    "                                             \"rating\": [int(rest_data[1])], \"date\": [rest_data[2]]}))\n",
    "        if count % 10000 == 0:\n",
    "            print(count, line)\n",
    "        count += 1\n",
    "                \n",
    "#df = pd.DataFrame({\"movie_id\": movie_ids, \"user_id\": user_ids, \"rating\": ratings, \"date\": dates})"
   ]
  }
 ],
 "metadata": {
  "kernelspec": {
   "display_name": "Python 3",
   "language": "python",
   "name": "python3"
  },
  "language_info": {
   "codemirror_mode": {
    "name": "ipython",
    "version": 3
   },
   "file_extension": ".py",
   "mimetype": "text/x-python",
   "name": "python",
   "nbconvert_exporter": "python",
   "pygments_lexer": "ipython3",
   "version": "3.6.7"
  }
 },
 "nbformat": 4,
 "nbformat_minor": 2
}
