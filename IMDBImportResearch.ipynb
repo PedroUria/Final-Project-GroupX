{
 "cells": [
  {
   "cell_type": "code",
   "execution_count": 6,
   "metadata": {},
   "outputs": [],
   "source": [
    "from imdb import IMDb\n",
    "import numpy as np\n",
    "import pandas as pd"
   ]
  },
  {
   "cell_type": "code",
   "execution_count": 8,
   "metadata": {},
   "outputs": [],
   "source": [
    "ia=IMDb()"
   ]
  },
  {
   "cell_type": "code",
   "execution_count": 34,
   "metadata": {},
   "outputs": [],
   "source": [
    "movies = ia.search_movie('matrix')\n",
    "rows = []\n",
    "for m in movies:\n",
    "    tmp = m.data\n",
    "    tmp['imdb_id'] = m.movieID\n",
    "    rows.append(tmp)"
   ]
  },
  {
   "cell_type": "code",
   "execution_count": 35,
   "metadata": {},
   "outputs": [
    {
     "name": "stdout",
     "output_type": "stream",
     "text": [
      "[{'title': 'The Matrix', 'kind': 'movie', 'year': 1999, 'imdb_id': '0133093'}, {'title': 'Matrix', 'kind': 'tv series', 'year': 1993, 'imdb_id': '0106062'}, {'episode of': 'Faux Raccord', 'series year': 2010, 'title': 'Matrix', 'kind': 'episode', 'year': 2010, 'imdb_id': '5113284'}, {'title': 'The Matrix Reloaded', 'kind': 'movie', 'year': 2003, 'imdb_id': '0234215'}, {'title': 'The Matrix Revolutions', 'kind': 'movie', 'year': 2003, 'imdb_id': '0242653'}, {'title': 'The Matrix Revisited', 'kind': 'video movie', 'year': 2001, 'imdb_id': '0295432'}, {'title': 'Cyber Wars', 'kind': 'movie', 'year': 2004, 'akas': ['Matrix Hunters: Kynigoi ston kyvernohoro'], 'imdb_id': '0270841'}, {'title': 'Matrix IV', 'kind': 'short', 'year': 2010, 'imdb_id': '1842414'}, {'title': 'Matriarch', 'kind': 'movie', 'year': 2018, 'imdbIndex': 'I', 'imdb_id': '6301452'}, {'title': 'The Matrix', 'kind': 'short', 'year': 2016, 'imdb_id': '9642498'}, {'title': 'The Animatrix', 'kind': 'video movie', 'year': 2003, 'imdb_id': '0328832'}, {'title': 'Enter the Matrix', 'kind': 'video game', 'year': 2003, 'imdb_id': '0277828'}, {'title': 'Threat Matrix', 'kind': 'tv series', 'year': 2003, 'imdb_id': '0364888'}, {'title': 'The Matrix Online', 'kind': 'video game', 'year': 2005, 'imdb_id': '0390244'}, {'title': 'V-World Matrix', 'kind': 'video movie', 'year': 1999, 'imdb_id': '0211096'}, {'title': 'The Matrix', 'kind': 'short', 'year': 2004, 'imdb_id': '9851526'}, {'title': 'The Living Matrix', 'kind': 'movie', 'year': 2009, 'imdb_id': '1499960'}, {'title': 'The Matrix: Path of Neo', 'kind': 'video game', 'year': 2005, 'imdb_id': '0451118'}, {'title': 'Sex and the Matrix', 'kind': 'tv short', 'year': 2000, 'imdb_id': '0274085'}, {'title': 'Matrioshki', 'kind': 'tv series', 'year': 2005, 'imdb_id': '0320882'}]\n"
     ]
    }
   ],
   "source": [
    "print(rows)"
   ]
  },
  {
   "cell_type": "code",
   "execution_count": 32,
   "metadata": {},
   "outputs": [
    {
     "data": {
      "text/plain": [
       "dict"
      ]
     },
     "execution_count": 32,
     "metadata": {},
     "output_type": "execute_result"
    }
   ],
   "source": [
    "movies[0].movieID\n",
    "type(movies[0].data)"
   ]
  },
  {
   "cell_type": "code",
   "execution_count": null,
   "metadata": {},
   "outputs": [],
   "source": []
  },
  {
   "cell_type": "code",
   "execution_count": 12,
   "metadata": {},
   "outputs": [
    {
     "name": "stdout",
     "output_type": "stream",
     "text": [
      "[<Movie id:0133093[http] title:_The Matrix (1999)_>, <Movie id:0106062[http] title:_\"Matrix\" (1993)_>, <Movie id:5113284[http] title:_\"Faux Raccord\" Matrix (2010)_>, <Movie id:0234215[http] title:_The Matrix Reloaded (2003)_>, <Movie id:0242653[http] title:_The Matrix Revolutions (2003)_>, <Movie id:0295432[http] title:_The Matrix Revisited (2001) (V)_>, <Movie id:0270841[http] title:_Cyber Wars (2004)_>, <Movie id:1842414[http] title:_Matrix IV (2010)_>, <Movie id:6301452[http] title:_Matriarch (I) (2018)_>, <Movie id:9642498[http] title:_The Matrix (2016)_>, <Movie id:0328832[http] title:_The Animatrix (2003) (V)_>, <Movie id:0277828[http] title:_Enter the Matrix (2003) (VG)_>, <Movie id:0364888[http] title:_\"Threat Matrix\" (2003)_>, <Movie id:0390244[http] title:_The Matrix Online (2005) (VG)_>, <Movie id:0211096[http] title:_V-World Matrix (1999) (V)_>, <Movie id:9851526[http] title:_The Matrix (2004)_>, <Movie id:1499960[http] title:_The Living Matrix (2009)_>, <Movie id:0451118[http] title:_The Matrix: Path of Neo (2005) (VG)_>, <Movie id:0274085[http] title:_Sex and the Matrix (2000)_>, <Movie id:0320882[http] title:_\"Matrioshki\" (2005)_>]\n"
     ]
    }
   ],
   "source": [
    "def movies_to_dataframe(movies):\n",
    "    df = pd.DataFrame()\n",
    "    for movie in movies:\n",
    "        df.append(pd.Series([\n",
    "            movie.myTitle,\n",
    "            movie.data\n",
    "        ]))"
   ]
  }
 ],
 "metadata": {
  "kernelspec": {
   "display_name": "Python 3",
   "language": "python",
   "name": "python3"
  },
  "language_info": {
   "codemirror_mode": {
    "name": "ipython",
    "version": 3
   },
   "file_extension": ".py",
   "mimetype": "text/x-python",
   "name": "python",
   "nbconvert_exporter": "python",
   "pygments_lexer": "ipython3",
   "version": "3.6.6"
  }
 },
 "nbformat": 4,
 "nbformat_minor": 2
}
